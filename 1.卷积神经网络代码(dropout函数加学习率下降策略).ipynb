{
 "cells": [
  {
   "cell_type": "code",
   "execution_count": 1,
   "id": "3675f847",
   "metadata": {
    "scrolled": true
   },
   "outputs": [],
   "source": [
    "import os\n",
    "import numpy as np\n",
    "import pandas as pd\n",
    "from tensorflow.keras.utils import load_img\n",
    "from tensorflow.keras.utils import img_to_array\n",
    "from keras.models import Sequential\n",
    "from keras.layers import Conv2D, AveragePooling2D, Flatten, Dense\n",
    "from sklearn.model_selection import train_test_split\n",
    "from sklearn.preprocessing import StandardScaler\n",
    "import cv2\n",
    "import matplotlib.pyplot as plt\n",
    "from sklearn.metrics import r2_score\n",
    "from keras.callbacks import LearningRateScheduler\n",
    "from keras.layers import Dropout"
   ]
  },
  {
   "cell_type": "code",
   "execution_count": 2,
   "id": "83e1ac42",
   "metadata": {},
   "outputs": [],
   "source": [
    "# 图片路径\n",
    "image_folder = \"E:\\shujuji\\metamaterialpicture900\"\n",
    "# Excel文件路径\n",
    "excel_path = \"E:\\\\1-1000-90.xlsx\""
   ]
  },
  {
   "cell_type": "code",
   "execution_count": 3,
   "id": "a7c48eda",
   "metadata": {},
   "outputs": [],
   "source": [
    "df = pd.read_excel(excel_path, usecols=[0, 16])  # 使用第1列和第17列的数据，从0开始计数，并跳过第一行"
   ]
  },
  {
   "cell_type": "code",
   "execution_count": 4,
   "id": "143a25db",
   "metadata": {},
   "outputs": [],
   "source": [
    "# 初始化图像和性能数组\n",
    "X = []\n",
    "y = []"
   ]
  },
  {
   "cell_type": "code",
   "execution_count": 5,
   "id": "e3a41768",
   "metadata": {
    "scrolled": false
   },
   "outputs": [],
   "source": [
    "for i in range(1, 651):\n",
    "    img_path = os.path.join(image_folder, f\"lcy{i}.jpg\")\n",
    "    if i in df[\"编号\"].values:\n",
    "        img = load_img(img_path, target_size=(224, 224))  # 调整为合适的图像大小\n",
    "        img_array = img_to_array(img)\n",
    "        img_array = cv2.cvtColor(img_array.astype('uint8'), cv2.COLOR_RGB2GRAY)\n",
    "        X.append(img_array)\n",
    "y=df[\"d33\"]"
   ]
  },
  {
   "cell_type": "code",
   "execution_count": 6,
   "id": "2f3f01ef",
   "metadata": {},
   "outputs": [],
   "source": [
    "# 转换为NumPy数组\n",
    "X = np.array(X)\n",
    "y = np.array(y)"
   ]
  },
  {
   "cell_type": "code",
   "execution_count": 7,
   "id": "68ab632f",
   "metadata": {},
   "outputs": [],
   "source": [
    "# 数据标准化\n",
    "#scaler = StandardScaler()\n",
    "#y = scaler.fit_transform(y.reshape(-1, 1)).flatten()"
   ]
  },
  {
   "cell_type": "code",
   "execution_count": 8,
   "id": "f9fd020d",
   "metadata": {},
   "outputs": [],
   "source": [
    "# 划分训练集和测试集\n",
    "X_train, X_test, y_train, y_test = train_test_split(X, y, test_size=0.2, random_state=500)"
   ]
  },
  {
   "cell_type": "code",
   "execution_count": 9,
   "id": "51a48c09",
   "metadata": {},
   "outputs": [],
   "source": [
    "from keras.layers import Dropout\n",
    "\n",
    "# 构建卷积神经网络模型\n",
    "model = Sequential()\n",
    "model.add(Conv2D(32, (5, 5), activation='relu', input_shape=(224, 224, 1)))\n",
    "model.add(AveragePooling2D((2, 2)))\n",
    "model.add(Dropout(0.1))  # 调整 Dropout 的概率\n",
    "model.add(Conv2D(64, (5, 5), activation='relu'))\n",
    "model.add(AveragePooling2D((2, 2)))\n",
    "model.add(Dropout(0.1))  # 调整 Dropout 的概率\n",
    "model.add(Conv2D(128, (5, 5), activation='relu'))\n",
    "model.add(AveragePooling2D((2, 2)))\n",
    "model.add(Dropout(0.1))  # 调整 Dropout 的概率\n",
    "model.add(Flatten())\n",
    "model.add(Dense(512, activation='relu'))\n",
    "model.add(Dropout(0.1))  # 调整 Dropout 的概率\n",
    "model.add(Dense(256, activation='relu'))\n",
    "model.add(Dropout(0.1))  # 调整 Dropout 的概率\n",
    "model.add(Dense(128, activation='relu'))\n",
    "model.add(Dropout(0.1))  # 调整 Dropout 的概率\n",
    "model.add(Dense(1, activation='linear'))"
   ]
  },
  {
   "cell_type": "code",
   "execution_count": 10,
   "id": "2f7838b5",
   "metadata": {},
   "outputs": [],
   "source": [
    "# 编译模型\n",
    "model.compile(optimizer='adam', loss='mean_squared_error')"
   ]
  },
  {
   "cell_type": "code",
   "execution_count": 11,
   "id": "936174e4",
   "metadata": {},
   "outputs": [],
   "source": [
    "# 定义学习率调整函数\n",
    "def lr_schedule(epoch):\n",
    "    \"\"\"\n",
    "    学习率调整函数，可以根据需要调整学习率的方式来修改\n",
    "    这里以每10个epoch将学习率减小为原来的0.9为例\n",
    "    \"\"\"\n",
    "    initial_lr = 0.01\n",
    "    drop = 0.9\n",
    "    epochs_drop = 10\n",
    "    lr = initial_lr * (drop ** (epoch // epochs_drop))\n",
    "    return lr\n",
    "\n",
    "# 创建一个 LearningRateScheduler 回调\n",
    "lr_scheduler = LearningRateScheduler(lr_schedule)"
   ]
  },
  {
   "cell_type": "code",
   "execution_count": null,
   "id": "bf944549",
   "metadata": {},
   "outputs": [
    {
     "name": "stdout",
     "output_type": "stream",
     "text": [
      "Epoch 1/40\n",
      "8/8 [==============================] - 20s 2s/step - loss: 6533649793024.0000 - val_loss: 40463.5117 - lr: 0.0100\n",
      "Epoch 2/40\n",
      "8/8 [==============================] - 19s 2s/step - loss: 49276.2812 - val_loss: 41081.8906 - lr: 0.0100\n",
      "Epoch 3/40\n",
      "8/8 [==============================] - 19s 2s/step - loss: 33114.1523 - val_loss: 19891.9277 - lr: 0.0100\n",
      "Epoch 4/40\n",
      "8/8 [==============================] - 19s 2s/step - loss: 23301.4980 - val_loss: 7737.8291 - lr: 0.0100\n",
      "Epoch 5/40\n",
      "8/8 [==============================] - 19s 2s/step - loss: 18432.4668 - val_loss: 7683.5146 - lr: 0.0100\n",
      "Epoch 6/40\n",
      "8/8 [==============================] - 19s 2s/step - loss: 18982.4707 - val_loss: 8711.7510 - lr: 0.0100\n",
      "Epoch 7/40\n",
      "8/8 [==============================] - 19s 2s/step - loss: 17349.2871 - val_loss: 9729.6445 - lr: 0.0100\n",
      "Epoch 8/40\n",
      "8/8 [==============================] - 19s 2s/step - loss: 14459.1670 - val_loss: 8828.0781 - lr: 0.0100\n",
      "Epoch 9/40\n",
      "8/8 [==============================] - 19s 2s/step - loss: 14823.2021 - val_loss: 8389.0195 - lr: 0.0100\n",
      "Epoch 10/40\n",
      "8/8 [==============================] - 20s 3s/step - loss: 15035.4219 - val_loss: 7800.3340 - lr: 0.0100\n",
      "Epoch 11/40\n",
      "8/8 [==============================] - 19s 2s/step - loss: 16555.0566 - val_loss: 8231.8418 - lr: 0.0090\n",
      "Epoch 12/40\n",
      "8/8 [==============================] - 19s 2s/step - loss: 13484.7217 - val_loss: 7623.7007 - lr: 0.0090\n",
      "Epoch 13/40\n",
      "8/8 [==============================] - 19s 2s/step - loss: 13617.4551 - val_loss: 8802.5488 - lr: 0.0090\n",
      "Epoch 14/40\n",
      "8/8 [==============================] - 21s 3s/step - loss: 13314.9863 - val_loss: 8892.8711 - lr: 0.0090\n",
      "Epoch 15/40\n",
      "8/8 [==============================] - 20s 3s/step - loss: 12262.7119 - val_loss: 8486.4316 - lr: 0.0090\n",
      "Epoch 16/40\n",
      "8/8 [==============================] - 19s 2s/step - loss: 11863.5371 - val_loss: 7976.9492 - lr: 0.0090\n",
      "Epoch 17/40\n",
      "8/8 [==============================] - 19s 2s/step - loss: 12308.1787 - val_loss: 8633.3291 - lr: 0.0090\n",
      "Epoch 18/40\n",
      "8/8 [==============================] - 19s 2s/step - loss: 12376.8574 - val_loss: 9047.6738 - lr: 0.0090\n",
      "Epoch 19/40\n",
      "8/8 [==============================] - 19s 2s/step - loss: 10339.8975 - val_loss: 9359.4277 - lr: 0.0090\n",
      "Epoch 20/40\n",
      "8/8 [==============================] - 19s 2s/step - loss: 10292.3994 - val_loss: 11291.6602 - lr: 0.0090\n",
      "Epoch 21/40\n",
      "8/8 [==============================] - 19s 2s/step - loss: 10860.9961 - val_loss: 11617.7402 - lr: 0.0081\n",
      "Epoch 22/40\n",
      "8/8 [==============================] - 20s 2s/step - loss: 11330.1777 - val_loss: 10808.4395 - lr: 0.0081\n",
      "Epoch 23/40\n",
      "2/8 [======>.......................] - ETA: 13s - loss: 13664.1660"
     ]
    }
   ],
   "source": [
    "# 在 model.fit 中使用 callbacks 参数将 LearningRateScheduler 加入训练过程\n",
    "history = model.fit(X_train, y_train, epochs=40, batch_size=64, validation_data=(X_test, y_test), callbacks=[lr_scheduler])"
   ]
  },
  {
   "cell_type": "code",
   "execution_count": null,
   "id": "04b708c5",
   "metadata": {},
   "outputs": [],
   "source": [
    "plt.plot(history.history['loss'][5:], label='Training Loss')\n",
    "plt.plot(history.history['val_loss'][5:], label='Validation Loss')\n",
    "plt.title('Training and Validation Loss')\n",
    "plt.xlabel('Epochs')\n",
    "plt.ylabel('Loss')\n",
    "plt.legend()\n",
    "plt.show()"
   ]
  },
  {
   "cell_type": "code",
   "execution_count": null,
   "id": "01dd77db",
   "metadata": {},
   "outputs": [],
   "source": [
    "# 在训练集上计算 R² 分数\n",
    "y_train_pred = model.predict(X_train)\n",
    "r2_train = r2_score(y_train, y_train_pred)\n",
    "\n",
    "# 在验证集上计算 R² 分数\n",
    "y_test_pred = model.predict(X_test)\n",
    "r2_test = r2_score(y_test, y_test_pred)\n",
    "\n",
    "# 打印 R² 分数\n",
    "print(f'R² 分数 - 训练集: {r2_train:.4f}')\n",
    "print(f'R² 分数 - 验证集: {r2_test:.4f}')"
   ]
  },
  {
   "cell_type": "code",
   "execution_count": null,
   "id": "564a9c53",
   "metadata": {},
   "outputs": [],
   "source": [
    "# 绘制真实值和预测值的对比图\n",
    "plt.scatter(y_test, y_test_pred)\n",
    "plt.plot([min(y_test), max(y_test)], [min(y_test), max(y_test)], linestyle='--', color='red', label='Perfect Prediction')\n",
    "plt.title('True vs Predicted Values')\n",
    "plt.xlabel('True Values')\n",
    "plt.ylabel('Predicted Values')\n",
    "plt.legend()\n",
    "plt.show()"
   ]
  },
  {
   "cell_type": "code",
   "execution_count": null,
   "id": "0cca2111",
   "metadata": {},
   "outputs": [],
   "source": []
  }
 ],
 "metadata": {
  "kernelspec": {
   "display_name": "tf2",
   "language": "python",
   "name": "tf2"
  },
  "language_info": {
   "codemirror_mode": {
    "name": "ipython",
    "version": 3
   },
   "file_extension": ".py",
   "mimetype": "text/x-python",
   "name": "python",
   "nbconvert_exporter": "python",
   "pygments_lexer": "ipython3",
   "version": "3.7.12"
  }
 },
 "nbformat": 4,
 "nbformat_minor": 5
}
