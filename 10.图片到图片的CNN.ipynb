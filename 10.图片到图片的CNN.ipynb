{
 "cells": [
  {
   "cell_type": "code",
   "execution_count": 1,
   "id": "03ed624d",
   "metadata": {},
   "outputs": [],
   "source": [
    "import os\n",
    "import cv2\n",
    "import numpy as np\n",
    "import tensorflow as tf\n",
    "from sklearn.model_selection import train_test_split\n",
    "import matplotlib.pyplot as plt\n",
    "from sklearn.metrics import r2_score"
   ]
  },
  {
   "cell_type": "code",
   "execution_count": 14,
   "id": "7f461e41",
   "metadata": {},
   "outputs": [],
   "source": [
    "# 设置数据路径\n",
    "big_images_path = \"E:\\metamaterialpicture\\metamaterialpicture900features\\900features\"\n",
    "small_images_path = \"E:\\metamaterialpicture\\metamaterialpicture900features\""
   ]
  },
  {
   "cell_type": "code",
   "execution_count": 15,
   "id": "64e6b5a5",
   "metadata": {},
   "outputs": [],
   "source": [
    "def load_data():\n",
    "    big_images = []\n",
    "    small_images = []\n",
    "    for i in range(1, 200):\n",
    "        big_img_path = os.path.join(big_images_path, f\"lcy{i}.jpg\")\n",
    "        small_img_path = os.path.join(small_images_path, f\"lcy{i}.jpg\")\n",
    "\n",
    "        big_img = cv2.imread(big_img_path, cv2.IMREAD_GRAYSCALE)\n",
    "        small_img = cv2.imread(small_img_path, cv2.IMREAD_GRAYSCALE)\n",
    "\n",
    "        # 处理成适当的格式\n",
    "        big_img = big_img / 255.0  # 归一化\n",
    "        small_img = small_img / 255.0  # 归一化\n",
    "        \n",
    "        big_images.append(big_img)\n",
    "        small_images.append(small_img)\n",
    "\n",
    "    return np.array(big_images), np.array(small_images)\n",
    "# 数据处理\n",
    "big_images, small_images = load_data()\n",
    "\n",
    "# 划分数据集\n",
    "X_train, X_test, y_train, y_test = train_test_split(big_images, small_images, test_size=0.2, random_state=42)\n",
    "X_train = np.expand_dims(X_train, axis=-1)\n",
    "X_test = np.expand_dims(X_test, axis=-1)\n",
    "X_train = X_train / 255.0\n",
    "X_test = X_test / 255.0\n",
    "X_train=np.array(X_train)\n",
    "X_test=np.array(X_test)\n",
    "\n",
    "y_train = np.expand_dims(y_train, axis=-1)\n",
    "y_test = np.expand_dims(y_test, axis=-1)\n",
    "y_train = y_train / 255.0\n",
    "y_test = y_test / 255.0\n",
    "y_train=np.array(y_train)\n",
    "y_test=np.array(y_test)\n",
    "\n",
    "\n",
    "# 构建CNN模型\n",
    "model = tf.keras.Sequential([\n",
    "    tf.keras.layers.Conv2D(32, (3, 3), activation='relu', input_shape=(595, 595, 1)),\n",
    "    tf.keras.layers.BatchNormalization(),\n",
    "    tf.keras.layers.AveragePooling2D((2, 2)),\n",
    "    tf.keras.layers.Conv2D(64, (3, 3), activation='relu'),\n",
    "    tf.keras.layers.BatchNormalization(),\n",
    "    tf.keras.layers.AveragePooling2D((2, 2)),\n",
    "    tf.keras.layers.Conv2D(128, (3, 3), activation='relu'),\n",
    "    tf.keras.layers.BatchNormalization(),\n",
    "    tf.keras.layers.AveragePooling2D((2, 2)),\n",
    "])"
   ]
  },
  {
   "cell_type": "code",
   "execution_count": null,
   "id": "48125be9",
   "metadata": {},
   "outputs": [],
   "source": [
    "# 构建改进的U-Net模型\n",
    "def improved_unet_model():\n",
    "    inputs = Input((595, 595, 1))\n",
    "    \n",
    "    # 编码器\n",
    "    conv1 = Conv2D(64, 3, activation='relu', padding='same')(inputs)\n",
    "    conv1 = Conv2D(64, 3, activation='relu', padding='same')(conv1)\n",
    "    pool1 = AveragePooling2D(pool_size=(2, 2))(conv1)\n",
    "    \n",
    "    conv2 = Conv2D(128, 3, activation='relu', padding='same')(pool1)\n",
    "    conv2 = Conv2D(128, 3, activation='relu', padding='same')(conv2)\n",
    "    pool2 = AveragePooling2D(pool_size=(2, 2))(conv2)\n",
    "    \n",
    "    conv3 = Conv2D(256, 3, activation='relu', padding='same')(pool2)\n",
    "    conv3 = Conv2D(256, 3, activation='relu', padding='same')(conv3)\n",
    "    pool3 = AveragePooling2D(pool_size=(2, 2))(conv3)\n",
    "    \n",
    "    # 中间层\n",
    "    conv4 = Conv2D(512, 3, activation='relu', padding='same')(pool3)\n",
    "    conv4 = Conv2D(512, 3, activation='relu', padding='same')(conv4)\n",
    "    \n",
    "    # 解码器\n",
    "    up1 = UpSampling2D((2, 2))(conv4)\n",
    "    conv5 = Conv2D(256, 3, activation='relu', padding='same')(up1)\n",
    "    conv5 = Conv2D(256, 3, activation='relu', padding='same')(conv5)\n",
    "    concatenate1 = concatenate([conv3, conv5], axis=-1)\n",
    "    \n",
    "    up2 = UpSampling2D((2, 2))(concatenate1)\n",
    "    conv6 = Conv2D(128, 3, activation='relu', padding='same')(up2)\n",
    "    conv6 = Conv2D(128, 3, activation='relu', padding='same')(conv6)\n",
    "    concatenate2 = concatenate([conv2, conv6], axis=-1)\n",
    "    \n",
    "    up3 = UpSampling2D((2, 2))(concatenate2)\n",
    "    conv7 = Conv2D(64, 3, activation='relu', padding='same')(up3)\n",
    "    conv7 = Conv2D(64, 3, activation='relu', padding='same')(conv7)\n",
    "    concatenate3 = concatenate([conv1, conv7], axis=-1)\n",
    "    \n",
    "    # 输出层\n",
    "    outputs = Conv2D(1, 1, activation='sigmoid')(concatenate3)\n",
    "    \n",
    "    model = Model(inputs=inputs, outputs=outputs)\n",
    "    model.compile(optimizer=Adam(), loss='binary_crossentropy', metrics=['accuracy'])\n",
    "    \n",
    "    return model\n"
   ]
  },
  {
   "cell_type": "code",
   "execution_count": 16,
   "id": "32132cc0",
   "metadata": {},
   "outputs": [],
   "source": [
    "# 定义一个 R2ScoreCallback 回调函数\n",
    "class R2ScoreCallback(tf.keras.callbacks.Callback):\n",
    "    def on_epoch_end(self, epochs, logs=None):\n",
    "        # 在每个训练周期结束时计算 R2 分数并输出\n",
    "        X_test = self.validation_data[0]\n",
    "        y_test = self.validation_data[1]\n",
    "        y_pred = self.model.predict(X_test)\n",
    "        y_test = y_test.flatten()\n",
    "        y_pred = y_pred.flatten()\n",
    "        r2 = r2_score(y_test, y_pred)\n",
    "        print(f\"Validation R2 Score: {r2}\")\n",
    "r2_callback = R2ScoreCallback()"
   ]
  },
  {
   "cell_type": "code",
   "execution_count": 17,
   "id": "0e4f2ff7",
   "metadata": {},
   "outputs": [],
   "source": [
    "# 编译模型\n",
    "model.compile(optimizer='adam', loss='mean_squared_error')"
   ]
  },
  {
   "cell_type": "code",
   "execution_count": 18,
   "id": "eb0412cd",
   "metadata": {},
   "outputs": [
    {
     "name": "stdout",
     "output_type": "stream",
     "text": [
      "Epoch 1/20\n",
      "5/5 [==============================] - 53s 11s/step - loss: 0.2852 - mae: 0.3381 - val_loss: 0.2294 - val_mae: 0.4778\n",
      "Epoch 2/20\n",
      "5/5 [==============================] - 56s 11s/step - loss: 0.2183 - mae: 0.2204 - val_loss: 0.1782 - val_mae: 0.4029\n",
      "Epoch 3/20\n",
      "5/5 [==============================] - 53s 11s/step - loss: 0.1834 - mae: 0.1851 - val_loss: 0.1480 - val_mae: 0.3235\n",
      "Epoch 4/20\n",
      "5/5 [==============================] - 54s 11s/step - loss: 0.1729 - mae: 0.1744 - val_loss: 0.1385 - val_mae: 0.2609\n",
      "Epoch 5/20\n",
      "5/5 [==============================] - 53s 11s/step - loss: 0.1654 - mae: 0.1669 - val_loss: 0.1386 - val_mae: 0.2205\n",
      "Epoch 6/20\n",
      "5/5 [==============================] - 53s 11s/step - loss: 0.1596 - mae: 0.1611 - val_loss: 0.1416 - val_mae: 0.1973\n",
      "Epoch 7/20\n",
      "5/5 [==============================] - 57s 12s/step - loss: 0.1581 - mae: 0.1596 - val_loss: 0.1439 - val_mae: 0.1832\n",
      "Epoch 8/20\n",
      "5/5 [==============================] - 53s 11s/step - loss: 0.1529 - mae: 0.1545 - val_loss: 0.1442 - val_mae: 0.1732\n",
      "Epoch 9/20\n",
      "5/5 [==============================] - 53s 11s/step - loss: 0.1496 - mae: 0.1511 - val_loss: 0.1454 - val_mae: 0.1662\n",
      "Epoch 10/20\n",
      "5/5 [==============================] - 51s 10s/step - loss: 0.1483 - mae: 0.1498 - val_loss: 0.1455 - val_mae: 0.1608\n",
      "Epoch 11/20\n",
      "5/5 [==============================] - 51s 10s/step - loss: 0.1446 - mae: 0.1461 - val_loss: 0.1462 - val_mae: 0.1574\n",
      "Epoch 12/20\n",
      "5/5 [==============================] - 51s 10s/step - loss: 0.1446 - mae: 0.1462 - val_loss: 0.1464 - val_mae: 0.1554\n",
      "Epoch 13/20\n",
      "5/5 [==============================] - 51s 10s/step - loss: 0.1446 - mae: 0.1461 - val_loss: 0.1461 - val_mae: 0.1534\n",
      "Epoch 14/20\n",
      "5/5 [==============================] - 52s 11s/step - loss: 0.1446 - mae: 0.1461 - val_loss: 0.1466 - val_mae: 0.1526\n",
      "Epoch 15/20\n",
      "5/5 [==============================] - 54s 11s/step - loss: 0.1446 - mae: 0.1461 - val_loss: 0.1470 - val_mae: 0.1523\n",
      "Epoch 16/20\n",
      "5/5 [==============================] - 54s 11s/step - loss: 0.1446 - mae: 0.1461 - val_loss: 0.1473 - val_mae: 0.1520\n",
      "Epoch 17/20\n",
      "5/5 [==============================] - 54s 11s/step - loss: 0.1446 - mae: 0.1461 - val_loss: 0.1476 - val_mae: 0.1519\n",
      "Epoch 18/20\n",
      "5/5 [==============================] - 53s 11s/step - loss: 0.1446 - mae: 0.1461 - val_loss: 0.1478 - val_mae: 0.1517\n",
      "Epoch 19/20\n",
      "5/5 [==============================] - 53s 11s/step - loss: 0.1446 - mae: 0.1461 - val_loss: 0.1480 - val_mae: 0.1516\n",
      "Epoch 20/20\n",
      "5/5 [==============================] - 55s 11s/step - loss: 0.1446 - mae: 0.1461 - val_loss: 0.1482 - val_mae: 0.1516\n"
     ]
    }
   ],
   "source": [
    "# 训练模型\n",
    "history = model.fit(X_train, y_train, epochs=50, batch_size=64, validation_data=(X_test, y_test))"
   ]
  },
  {
   "cell_type": "code",
   "execution_count": 19,
   "id": "3d406c51",
   "metadata": {},
   "outputs": [
    {
     "data": {
      "image/png": "[encoded data removed]",
      "text/plain": [
       "<Figure size 640x480 with 1 Axes>"
      ]
     },
     "metadata": {},
     "output_type": "display_data"
    }
   ],
   "source": [
    "plt.plot(history.history['loss'][5:], label='Training Loss')\n",
    "plt.plot(history.history['val_loss'][5:], label='Validation Loss')\n",
    "plt.title('Training and Validation Loss')\n",
    "plt.xlabel('Epochs')\n",
    "plt.ylabel('Loss')\n",
    "plt.legend()\n",
    "plt.show()"
   ]
  },
  {
   "cell_type": "code",
   "execution_count": 26,
   "id": "40bf2d3a",
   "metadata": {},
   "outputs": [
    {
     "name": "stdout",
     "output_type": "stream",
     "text": [
      "5/5 [==============================] - 10s 2s/step\n",
      "2/2 [==============================] - 3s 580ms/step\n",
      "R² 分数 - 训练集: -86424.5821\n",
      "R² 分数 - 验证集: -86378.3484\n"
     ]
    }
   ],
   "source": [
    "# 在训练集上计算 R² 分数\n",
    "y_train_pred = model.predict(X_train)\n",
    "y_train = y_train.flatten()\n",
    "y_train_pred =y_train_pred.flatten()\n",
    "r2_train = r2_score(y_train, y_train_pred)\n",
    "\n",
    "# 在验证集上计算 R² 分数\n",
    "y_test_pred = model.predict(X_test)\n",
    "y_test = y_test.flatten()\n",
    "y_test_pred =y_test_pred.flatten()\n",
    "r2_test = r2_score(y_test, y_test_pred)\n",
    "\n",
    "# 打印 R² 分数\n",
    "print(f'R² 分数 - 训练集: {r2_train:.4f}')\n",
    "print(f'R² 分数 - 验证集: {r2_test:.4f}')"
   ]
  },
  {
   "cell_type": "code",
   "execution_count": null,
   "id": "a8f8b398",
   "metadata": {},
   "outputs": [],
   "source": []
  }
 ],
 "metadata": {
  "kernelspec": {
   "display_name": "tf2",
   "language": "python",
   "name": "tf2"
  },
  "language_info": {
   "codemirror_mode": {
    "name": "ipython",
    "version": 3
   },
   "file_extension": ".py",
   "mimetype": "text/x-python",
   "name": "python",
   "nbconvert_exporter": "python",
   "pygments_lexer": "ipython3",
   "version": "3.7.12"
  }
 },
 "nbformat": 4,
 "nbformat_minor": 5
}
