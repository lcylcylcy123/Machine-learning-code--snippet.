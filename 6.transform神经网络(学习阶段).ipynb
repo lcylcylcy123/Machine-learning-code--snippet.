{
 "cells": [
  {
   "cell_type": "code",
   "execution_count": 2,
   "id": "bd0493ca",
   "metadata": {},
   "outputs": [],
   "source": [
    "import torch\n",
    "import torch.nn as nn\n",
    "import torch.nn.functional as F\n",
    "from torch.autograd import Variable\n",
    "import math\n",
    "import numpy as np\n",
    "import copy"
   ]
  },
  {
   "cell_type": "code",
   "execution_count": 4,
   "id": "916ebd7c",
   "metadata": {},
   "outputs": [
    {
     "name": "stdout",
     "output_type": "stream",
     "text": [
      "tensor([[[ 0.9299,  0.0993, -1.1719],\n",
      "         [ 1.7416, -0.7962,  1.3947],\n",
      "         [-1.4140,  0.3237,  1.1944],\n",
      "         [-0.8568, -0.8607,  1.1050]],\n",
      "\n",
      "        [[-1.4140,  0.3237,  1.1944],\n",
      "         [ 1.5374, -1.7836,  0.2205],\n",
      "         [ 1.7416, -0.7962,  1.3947],\n",
      "         [ 0.3908,  0.9114, -0.1368]]], grad_fn=<EmbeddingBackward>)\n"
     ]
    }
   ],
   "source": [
    "embedding=nn.Embedding(10,3)\n",
    "input1=torch.LongTensor([[1,2,4,5],[4,3,2,9]]) \n",
    "print(embedding(input1))"
   ]
  },
  {
   "cell_type": "code",
   "execution_count": null,
   "id": "60dd3780",
   "metadata": {},
   "outputs": [],
   "source": [
    "class Embeddings(nn.Module):\n",
    "    def   "
   ]
  }
 ],
 "metadata": {
  "kernelspec": {
   "display_name": "Python 3 (ipykernel)",
   "language": "python",
   "name": "python3"
  },
  "language_info": {
   "codemirror_mode": {
    "name": "ipython",
    "version": 3
   },
   "file_extension": ".py",
   "mimetype": "text/x-python",
   "name": "python",
   "nbconvert_exporter": "python",
   "pygments_lexer": "ipython3",
   "version": "3.8.11"
  }
 },
 "nbformat": 4,
 "nbformat_minor": 5
}
