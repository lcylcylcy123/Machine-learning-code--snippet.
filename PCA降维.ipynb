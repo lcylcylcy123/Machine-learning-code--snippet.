{
 "cells": [
  {
   "cell_type": "code",
   "execution_count": 1,
   "id": "7a6b250a",
   "metadata": {},
   "outputs": [],
   "source": [
    "# 导入类库\n",
    "import pandas as pd\n",
    "from pandas.plotting import scatter_matrix\n",
    "from matplotlib import pyplot\n",
    "from sklearn.model_selection import train_test_split\n",
    "from sklearn.model_selection import KFold\n",
    "from sklearn.model_selection import cross_val_score\n",
    "from sklearn.metrics import classification_report\n",
    "from sklearn.metrics import confusion_matrix\n",
    "from sklearn.metrics import accuracy_score\n",
    "from sklearn.linear_model import LogisticRegression\n",
    "from sklearn.tree import DecisionTreeClassifier\n",
    "from sklearn.discriminant_analysis import LinearDiscriminantAnalysis\n",
    "from sklearn.neighbors import KNeighborsClassifier\n",
    "from sklearn.naive_bayes import GaussianNB\n",
    "from sklearn.svm import SVC\n",
    "import numpy as np\n",
    "import matplotlib.pyplot as plt\n",
    "from sklearn.decomposition import PCA\n",
    "from sklearn.metrics import r2_score, mean_squared_error, mean_absolute_error\n",
    "from sklearn.pipeline import make_pipeline\n",
    "from sklearn.preprocessing import StandardScaler"
   ]
  },
  {
   "cell_type": "code",
   "execution_count": 153,
   "id": "29fa8bad",
   "metadata": {},
   "outputs": [],
   "source": [
    "d33=pd.read_csv('E:/yadian.csv')  #读取数据集\n",
    "x=d33[['平面聚集度y','聚集高度y','平面聚集数y','平面聚集度x','平面聚集数x','界面垂直因子','界面平行因子','优势路径','最短路径','通道因子y','通道因子z','通道因子x','优势分布','受力因子','聚集数','最大聚集度','平均聚集度','颗粒平均高度','竖向因子','取向因子','高度与面积之比y','高度与面积之比x','周长y','周长x','圆度y','圆度x','上下界面面积与体积之比','侧面界面面积与体积之比','颗粒平均表面积','颗粒平均比表面积','球度']]\n",
    "x1=d33[['取向因子y','取向因子x','PZT体积分数']]\n",
    "x2=d33[['聚集高度x','聚集高度y','PZT体积分数']]\n",
    "x3=d33[['颗粒平均高度','PZT体积分数']]\n",
    "x4=d33[['通道因子z','界面平行因子','颗粒平均表面积','球度','最大聚集度']]\n",
    "y=d33['d33']\n",
    "x1=StandardScaler().fit_transform(x1)\n",
    "x2=StandardScaler().fit_transform(x2)\n",
    "x3=StandardScaler().fit_transform(x3)"
   ]
  },
  {
   "cell_type": "code",
   "execution_count": 154,
   "id": "12ada1b0",
   "metadata": {},
   "outputs": [
    {
     "name": "stdout",
     "output_type": "stream",
     "text": [
      "(499, 8)\n",
      "[[ 2.18087393e+00  2.16101825e+00  3.45427279e-02 ...  6.58657143e+03\n",
      "   2.72474928e-01  5.25770000e+04]\n",
      " [-1.16926167e+00  2.09722122e+00  3.90478435e-01 ...  5.07055556e+03\n",
      "   2.46623318e-01  5.05220000e+04]\n",
      " [ 2.14574067e+00  2.02389847e+00  8.15451783e-03 ...  4.91961111e+03\n",
      "   3.15806765e-01  4.91280000e+04]\n",
      " ...\n",
      " [-1.21743629e+00 -1.69477300e+00  4.68718508e-01 ...  5.13380952e+01\n",
      "   3.91373653e-01  4.00000000e+01]\n",
      " [ 2.82771719e+00 -1.72382657e+00 -2.10303235e-01 ...  2.74820513e+01\n",
      "   4.98482504e-01  3.20000000e+01]\n",
      " [-7.78874707e-01 -1.70344529e+00  3.18222642e-02 ...  4.45721154e+01\n",
      "   4.59804607e-01  3.20000000e+01]]\n"
     ]
    }
   ],
   "source": [
    "pca = PCA(n_components=3)\n",
    "reduced_x1 = pca.fit_transform(x1)#得到了pca降到2维的数据\n",
    "reduced_x2 = pca.fit_transform(x2)#得到了pca降到2维的数据\n",
    "reduced_x4 = pca.fit_transform(x4)#得到了pca降到2维的数据\n",
    "X=np.concatenate((reduced_x1,x4),axis=1)\n",
    "#name=['取向1','取向2','通道因子z','界面平行因子','颗粒平均表面积','球度','最大聚集度']\n",
    "#PCA1=pd.DataFrame(columns=name,data=X)\n",
    "#PCA1.to_csv('E:/PCA1.csv',encoding='utf-8-sig')  #存储降维数据\n",
    "print(X.shape)\n",
    "print(X)\n",
    "x_train,x_test,y_train,y_test=train_test_split(reduced_x4,y,test_size=0.2,random_state=201)"
   ]
  },
  {
   "cell_type": "code",
   "execution_count": 155,
   "id": "a92ffa02",
   "metadata": {},
   "outputs": [],
   "source": [
    "#GBRT\n",
    "from sklearn.ensemble import GradientBoostingRegressor\n",
    "#params = {'n_estimators': 3000, 'max_depth': 2, 'min_samples_split': 2, 'learning_rate': 0.005, 'loss': 'ls'}\n",
    "GBRT =  GradientBoostingRegressor()\n",
    "GBRT.fit(x_train, y_train)\n",
    "GBRT_y_predict = GBRT.predict(x_test)\n",
    "name=['GBRT']\n",
    "#test3=pd.DataFrame(columns=name,data=GBRT_y_predict)\n",
    "#test3.to_csv('E:/y_testGBRT2.csv',encoding='utf-8-sig')"
   ]
  },
  {
   "cell_type": "code",
   "execution_count": 156,
   "id": "34cd7e50",
   "metadata": {},
   "outputs": [],
   "source": [
    "r2_GBRT, MSE_GBRT, MAE_GBRT = r2_score(y_test, GBRT_y_predict),\\\n",
    "                           mean_squared_error(y_test, GBRT_y_predict),\\\n",
    "                           mean_absolute_error(y_test, GBRT_y_predict)"
   ]
  },
  {
   "cell_type": "code",
   "execution_count": 157,
   "id": "633d836a",
   "metadata": {},
   "outputs": [
    {
     "name": "stdout",
     "output_type": "stream",
     "text": [
      "0.8335066067486796\n"
     ]
    }
   ],
   "source": [
    "print(r2_GBRT)"
   ]
  },
  {
   "cell_type": "code",
   "execution_count": 158,
   "id": "d0ad9d0f",
   "metadata": {},
   "outputs": [],
   "source": [
    "#SVR\n",
    "from sklearn.svm import SVR\n",
    "SVR = make_pipeline(StandardScaler(), SVR(kernel=\"rbf\",gamma=0.26826957952797276,C=100))\n",
    "SVR.fit(x_train, y_train)\n",
    "SVR_y_predict = SVR.predict(x_test)"
   ]
  },
  {
   "cell_type": "code",
   "execution_count": 159,
   "id": "25c9004b",
   "metadata": {},
   "outputs": [],
   "source": [
    "r2_SVR, MSE_SVR, MAE_SVR = r2_score(y_test, SVR_y_predict), \\\n",
    "                                          mean_squared_error(y_test, SVR_y_predict), \\\n",
    "                                          mean_absolute_error(y_test, SVR_y_predict)"
   ]
  },
  {
   "cell_type": "code",
   "execution_count": 160,
   "id": "91c2ae66",
   "metadata": {},
   "outputs": [
    {
     "name": "stdout",
     "output_type": "stream",
     "text": [
      "0.8487642763337855\n"
     ]
    }
   ],
   "source": [
    "print(r2_SVR)"
   ]
  },
  {
   "cell_type": "code",
   "execution_count": 161,
   "id": "3fba7798",
   "metadata": {},
   "outputs": [
    {
     "data": {
      "text/plain": [
       "<matplotlib.collections.PathCollection at 0x1c3dd9ce670>"
      ]
     },
     "execution_count": 161,
     "metadata": {},
     "output_type": "execute_result"
    },
    {
     "data": {
      "image/png": "[encoded data removed]",
      "text/plain": [
       "<Figure size 432x288 with 1 Axes>"
      ]
     },
     "metadata": {
      "needs_background": "light"
     },
     "output_type": "display_data"
    }
   ],
   "source": [
    "i=reduced_x1[:,0]\n",
    "j=reduced_x1[:,1]\n",
    "plt.scatter(i,j)"
   ]
  },
  {
   "cell_type": "code",
   "execution_count": null,
   "id": "59fc9a06",
   "metadata": {},
   "outputs": [],
   "source": []
  }
 ],
 "metadata": {
  "kernelspec": {
   "display_name": "Python 3 (ipykernel)",
   "language": "python",
   "name": "python3"
  },
  "language_info": {
   "codemirror_mode": {
    "name": "ipython",
    "version": 3
   },
   "file_extension": ".py",
   "mimetype": "text/x-python",
   "name": "python",
   "nbconvert_exporter": "python",
   "pygments_lexer": "ipython3",
   "version": "3.8.11"
  }
 },
 "nbformat": 4,
 "nbformat_minor": 5
}
