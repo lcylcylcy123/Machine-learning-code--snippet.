{
 "cells": [
  {
   "cell_type": "code",
   "execution_count": 4,
   "id": "a4febdd0",
   "metadata": {},
   "outputs": [
    {
     "name": "stdout",
     "output_type": "stream",
     "text": [
      "[[49  3 76 10]\n",
      " [39 42 28 31]\n",
      " [80 57 88 56]\n",
      " ...\n",
      " [13 13 12 13]\n",
      " [ 6  9  4  5]\n",
      " [23 24 19 18]]\n"
     ]
    }
   ],
   "source": [
    "import pandas as pd\n",
    "df1=pd.read_excel('E:/1-1000-90.xlsx')\n",
    "data6=df1.iloc[:,[1,2,3,4]].values#读取指定列的所有行数据：读取第一列所有数据\n",
    "print(data6)"
   ]
  },
  {
   "cell_type": "code",
   "execution_count": 5,
   "id": "7c2679c6",
   "metadata": {},
   "outputs": [
    {
     "ename": "SyntaxError",
     "evalue": "invalid character in identifier (Temp/ipykernel_20384/1712576171.py, line 1)",
     "output_type": "error",
     "traceback": [
      "\u001b[1;36m  File \u001b[1;32m\"C:\\Users\\Administrator\\AppData\\Local\\Temp/ipykernel_20384/1712576171.py\"\u001b[1;36m, line \u001b[1;32m1\u001b[0m\n\u001b[1;33m    data = pd.read_excel('E:/1-1000-90.xlsx'，header=None, sep=' ', names=['1'])\u001b[0m\n\u001b[1;37m                                                  ^\u001b[0m\n\u001b[1;31mSyntaxError\u001b[0m\u001b[1;31m:\u001b[0m invalid character in identifier\n"
     ]
    }
   ],
   "source": []
  },
  {
   "cell_type": "code",
   "execution_count": null,
   "id": "eef5a51b",
   "metadata": {},
   "outputs": [],
   "source": []
  }
 ],
 "metadata": {
  "kernelspec": {
   "display_name": "Python 3 (ipykernel)",
   "language": "python",
   "name": "python3"
  },
  "language_info": {
   "codemirror_mode": {
    "name": "ipython",
    "version": 3
   },
   "file_extension": ".py",
   "mimetype": "text/x-python",
   "name": "python",
   "nbconvert_exporter": "python",
   "pygments_lexer": "ipython3",
   "version": "3.8.11"
  }
 },
 "nbformat": 4,
 "nbformat_minor": 5
}
