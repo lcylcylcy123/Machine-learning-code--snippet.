{
 "cells": [
  {
   "cell_type": "code",
   "execution_count": 16,
   "id": "82cbe04c",
   "metadata": {},
   "outputs": [],
   "source": [
    "import os\n",
    "import numpy as np\n",
    "import pandas as pd\n",
    "from tensorflow.keras.utils import load_img\n",
    "from tensorflow.keras.utils import img_to_array\n",
    "from keras.models import Sequential\n",
    "from keras.layers import Conv2D, MaxPooling2D, Flatten, Dense\n",
    "from sklearn.model_selection import train_test_split\n",
    "from sklearn.preprocessing import StandardScaler\n",
    "import cv2\n",
    "import matplotlib.pyplot as plt\n",
    "from sklearn.metrics import r2_score\n",
    "from keras.callbacks import LearningRateScheduler\n",
    "from keras.layers import Dropout\n",
    "from sklearn.model_selection import KFold"
   ]
  },
  {
   "cell_type": "code",
   "execution_count": 17,
   "id": "f657108b",
   "metadata": {},
   "outputs": [],
   "source": [
    "# 图片路径\n",
    "image_folder = \"E:\\shujuji\\metamaterialpicture90\"\n",
    "# Excel文件路径\n",
    "excel_path = \"E:\\\\1-1000-90.xlsx\"\n",
    "df = pd.read_excel(excel_path, usecols=[0, 16])  # 使用第1列和第17列的数据，从0开始计数，并跳过第一行"
   ]
  },
  {
   "cell_type": "code",
   "execution_count": 18,
   "id": "ae4bc0b8",
   "metadata": {},
   "outputs": [],
   "source": [
    "# 初始化图像和性能数组\n",
    "X = []\n",
    "y = []"
   ]
  },
  {
   "cell_type": "code",
   "execution_count": 19,
   "id": "585e884d",
   "metadata": {},
   "outputs": [],
   "source": [
    "for i in range(1, 651):\n",
    "    img_path = os.path.join(image_folder, f\"lcy{i}.jpg\")\n",
    "    if i in df[\"编号\"].values:\n",
    "        img = load_img(img_path, target_size=(224, 224))  # 调整为合适的图像大小\n",
    "        img_array = img_to_array(img)\n",
    "        img_array = cv2.cvtColor(img_array.astype('uint8'), cv2.COLOR_RGB2GRAY)\n",
    "        X.append(img_array)\n",
    "y=df[\"d33\"]"
   ]
  },
  {
   "cell_type": "code",
   "execution_count": 20,
   "id": "ec7d4581",
   "metadata": {},
   "outputs": [],
   "source": [
    "# 转换为NumPy数组\n",
    "X = np.array(X)\n",
    "y = np.array(y)"
   ]
  },
  {
   "cell_type": "code",
   "execution_count": 21,
   "id": "c3cbbc12",
   "metadata": {},
   "outputs": [],
   "source": [
    "# 设置 K 折交叉验证\n",
    "kfold = KFold(n_splits=5, shuffle=True, random_state=42)"
   ]
  },
  {
   "cell_type": "code",
   "execution_count": 24,
   "id": "b13c1edc",
   "metadata": {},
   "outputs": [
    {
     "name": "stdout",
     "output_type": "stream",
     "text": [
      "4/4 [==============================] - 1s 121ms/step\n",
      "R² Score for this fold: 0.7586493502492998\n",
      "4/4 [==============================] - 1s 118ms/step\n",
      "R² Score for this fold: 0.7995460846416609\n",
      "4/4 [==============================] - 1s 246ms/step\n",
      "R² Score for this fold: 0.7284896383706915\n",
      "4/4 [==============================] - 1s 118ms/step\n",
      "R² Score for this fold: 0.6173814810436771\n",
      "4/4 [==============================] - 1s 122ms/step\n",
      "R² Score for this fold: 0.6210270364383065\n",
      "Average R² Score: 0.7050187181487271\n"
     ]
    }
   ],
   "source": [
    "# 训练和验证模型\n",
    "r2_scores=[]\n",
    "for train_index, test_index in kfold.split(X):\n",
    "    X_train, X_test = X[train_index], X[test_index]\n",
    "    y_train, y_test = y[train_index], y[test_index]\n",
    "\n",
    "    model = Sequential()\n",
    "    model.add(Conv2D(32, (3, 3), activation='relu', input_shape=(224, 224, 1)))\n",
    "    model.add(MaxPooling2D((2, 2)))\n",
    "    model.add(Conv2D(64, (3, 3), activation='relu'))\n",
    "    model.add(MaxPooling2D((2, 2)))\n",
    "    model.add(Conv2D(128, (3, 3), activation='relu'))\n",
    "    model.add(MaxPooling2D((2, 2)))\n",
    "\n",
    "# 输出平均 R² 分数\n",
    "average_r2 = np.mean(r2_scores)\n",
    "print(f'Average R² Score: {average_r2}')"
   ]
  },
  {
   "cell_type": "code",
   "execution_count": 23,
   "id": "a37aa3ca",
   "metadata": {},
   "outputs": [
    {
     "name": "stdout",
     "output_type": "stream",
     "text": [
      "0.7644516493329915\n"
     ]
    }
   ],
   "source": [
    "print(r2)"
   ]
  },
  {
   "cell_type": "code",
   "execution_count": null,
   "id": "b8370403",
   "metadata": {},
   "outputs": [],
   "source": []
  }
 ],
 "metadata": {
  "kernelspec": {
   "display_name": "tf2",
   "language": "python",
   "name": "tf2"
  },
  "language_info": {
   "codemirror_mode": {
    "name": "ipython",
    "version": 3
   },
   "file_extension": ".py",
   "mimetype": "text/x-python",
   "name": "python",
   "nbconvert_exporter": "python",
   "pygments_lexer": "ipython3",
   "version": "3.7.12"
  }
 },
 "nbformat": 4,
 "nbformat_minor": 5
}
