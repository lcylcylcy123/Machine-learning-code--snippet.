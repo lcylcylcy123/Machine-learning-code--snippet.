{
 "cells": [
  {
   "cell_type": "code",
   "execution_count": 9,
   "id": "ac2cf2b0",
   "metadata": {},
   "outputs": [],
   "source": [
    "from sklearn.datasets import load_breast_cancer\n",
    "from sklearn.svm import SVR\n",
    "from sklearn.model_selection import train_test_split\n",
    "import matplotlib.pyplot as plt\n",
    "import numpy as np\n",
    "from time import time\n",
    "import datetime\n",
    "import pandas as pd\n",
    "from sklearn.preprocessing import StandardScaler\n",
    "from sklearn.model_selection import StratifiedShuffleSplit\n",
    "from sklearn.model_selection import GridSearchCV\n",
    "from sklearn.metrics import r2_score, mean_squared_error\n",
    "from sklearn.pipeline import make_pipeline"
   ]
  },
  {
   "cell_type": "code",
   "execution_count": 10,
   "id": "25e46ba0",
   "metadata": {},
   "outputs": [],
   "source": [
    "#打开数据文件\n",
    "d33=pd.read_csv('E:/yadian.csv')  #读取数据集\n",
    "#遍历 格式设置为float\n",
    "traffic_feature=d33[['取向因子y','取向因子x','PZT体积分数','通道因子z','界面平行因子']]\n",
    "traffic_target=d33['d33']\n",
    "#scaler = StandardScaler() # 标准化转换\n",
    "#scaler.fit(traffic_feature)  # 训练标准化对象\n",
    "#traffic_feature= scaler.transform(traffic_feature)   # 转换数据集\n",
    "feature_train,feature_test,target_train, target_test = train_test_split(traffic_feature,traffic_target,test_size=0.2,random_state=201)"
   ]
  },
  {
   "cell_type": "code",
   "execution_count": 16,
   "id": "c922bc29",
   "metadata": {},
   "outputs": [
    {
     "name": "stdout",
     "output_type": "stream",
     "text": [
      "0.9333059261084119\n"
     ]
    }
   ],
   "source": [
    "clf = make_pipeline(StandardScaler(), SVR(kernel=\"rbf\",gamma=0.756259622283275,C=85))\n",
    "#clf=SVR(kernel=\"rbf\",gamma=0.26826957952797276,C=100)\n",
    "clf.fit(feature_train,target_train)\n",
    "predict_results1=clf.predict(feature_test)\n",
    "r_squared = r2_score(target_test,predict_results1 )\n",
    "print(r_squared)"
   ]
  },
  {
   "cell_type": "code",
   "execution_count": 14,
   "id": "ad7e8a0f",
   "metadata": {},
   "outputs": [
    {
     "name": "stdout",
     "output_type": "stream",
     "text": [
      "0.756259622283275 1.3257113655901108e-09\n"
     ]
    },
    {
     "data": {
      "image/png": "[encoded data removed]",
      "text/plain": [
       "<Figure size 432x288 with 1 Axes>"
      ]
     },
     "metadata": {
      "needs_background": "light"
     },
     "output_type": "display_data"
    }
   ],
   "source": [
    "score = []\n",
    "gamma_range = np.logspace(-10, 1, 50)\n",
    "for i in gamma_range:\n",
    "    clf = SVR(kernel=\"rbf\", gamma=i).fit(feature_train,target_train)\n",
    "    score.append(clf.score(feature_test, target_test))\n",
    "print(max(score), gamma_range[score.index(max(score))])\n",
    "plt.plot(gamma_range, score)\n",
    "plt.show()    #对rbg  核函数进行调参"
   ]
  },
  {
   "cell_type": "code",
   "execution_count": 8,
   "id": "de42c2e6",
   "metadata": {},
   "outputs": [
    {
     "name": "stdout",
     "output_type": "stream",
     "text": [
      "0.024344231537624106 84.85424242424243\n"
     ]
    },
    {
     "data": {
      "image/png": "[encoded data removed]",
      "text/plain": [
       "<Figure size 432x288 with 1 Axes>"
      ]
     },
     "metadata": {
      "needs_background": "light"
     },
     "output_type": "display_data"
    }
   ],
   "source": [
    "score = []\n",
    "C_range = np.linspace(0.01, 200, 100)\n",
    "for i in C_range:\n",
    "    clf = SVR(kernel=\"rbf\", C=i, gamma=0.0127).fit(feature_train,target_train)\n",
    "    score.append(clf.score(feature_test, target_test))\n",
    "print(max(score), C_range[score.index(max(score))])\n",
    "plt.plot(C_range, score)\n",
    "plt.show()     #调参"
   ]
  },
  {
   "cell_type": "code",
   "execution_count": null,
   "id": "b08ee21e",
   "metadata": {},
   "outputs": [],
   "source": [
    "score = []\n",
    "C_range = np.linspace(0.01, 30, 50)\n",
    "for i in C_range:\n",
    "    clf = SVR(kernel=\"linear\",C=i).fit(feature_train,target_train)\n",
    "    score.append(clf.score(feature_test, target_test))\n",
    "print(max(score), C_range[score.index(max(score))])\n",
    "plt.plot(C_range, score)\n",
    "plt.show()"
   ]
  },
  {
   "cell_type": "code",
   "execution_count": null,
   "id": "6664a085",
   "metadata": {},
   "outputs": [],
   "source": []
  }
 ],
 "metadata": {
  "kernelspec": {
   "display_name": "Python 3 (ipykernel)",
   "language": "python",
   "name": "python3"
  },
  "language_info": {
   "codemirror_mode": {
    "name": "ipython",
    "version": 3
   },
   "file_extension": ".py",
   "mimetype": "text/x-python",
   "name": "python",
   "nbconvert_exporter": "python",
   "pygments_lexer": "ipython3",
   "version": "3.8.11"
  }
 },
 "nbformat": 4,
 "nbformat_minor": 5
}
