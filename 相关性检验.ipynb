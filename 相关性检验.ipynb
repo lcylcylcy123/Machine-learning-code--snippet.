{
 "cells": [
  {
   "cell_type": "code",
   "execution_count": 21,
   "id": "9c61eaf7",
   "metadata": {},
   "outputs": [],
   "source": [
    "import pandas as pd\n",
    "import numpy as np\n",
    "import seaborn as sns\n",
    "import matplotlib.pyplot as plt"
   ]
  },
  {
   "cell_type": "code",
   "execution_count": 22,
   "id": "a0442d4c",
   "metadata": {},
   "outputs": [
    {
     "name": "stdout",
     "output_type": "stream",
     "text": [
      "编号            -0.023624\n",
      "d33           -0.466410\n",
      "介电常数          -0.726013\n",
      "C33           -0.570137\n",
      "空隙             0.732083\n",
      "平均长度           0.604557\n",
      "路径个数          -0.425880\n",
      "最短5            0.576981\n",
      "最短路径           0.515390\n",
      "方差             0.446638\n",
      "中位数            0.583793\n",
      "通道因子z          0.221641\n",
      "体积分数          -0.732325\n",
      "形状因子z         -0.740951\n",
      "通道因子y         -0.059414\n",
      "形状因子y         -0.702805\n",
      "优势路径z         -0.540103\n",
      "最短路径z         -0.632415\n",
      "平均所有竖直路径长度    -0.547593\n",
      "平均有效路径长度      -0.251695\n",
      "平均有效路径个数      -0.563968\n",
      "每一层被截断的平均次数    0.411297\n",
      "最短路径y         -0.582161\n",
      "优势路径y         -0.688035\n",
      "平均路径长度y       -0.598734\n",
      "#平均有效路径长度y    -0.631454\n",
      "平均有效路径个数y      0.238169\n",
      "残差             0.184471\n",
      "g33            1.000000\n",
      "Name: g33, dtype: float64\n"
     ]
    }
   ],
   "source": [
    "import pandas as pd\n",
    "\n",
    "# 读取xlsx文件\n",
    "file_path = 'E:\\\\way650.xlsx'  # 请替换成你的文件路径\n",
    "df = pd.read_excel(file_path)\n",
    "\n",
    "# 选择需要计算相关系数的列，假设 \"d33\" 是第一列\n",
    "selected_column = 'g33'\n",
    "\n",
    "# 计算与其他列的相关系数\n",
    "correlation_with_d33 = df[1:900].corr()[selected_column]\n",
    "\n",
    "# 显示相关系数\n",
    "print(correlation_with_d33)"
   ]
  },
  {
   "cell_type": "code",
   "execution_count": null,
   "id": "da9e58d8",
   "metadata": {
    "scrolled": true
   },
   "outputs": [],
   "source": [
    "plt.rcParams['font.sans-serif']=['SimHei']   # 用黑体显示中文\n",
    "plt.rcParams['axes.unicode_minus']=False     # 正常显示负号\n",
    "plt.style.use({'figure.figsize':(15,10)})\n",
    "plt.figure(dpi=2000)\n",
    "fig=sns.heatmap(d, vmax=1, square=True, cmap=\"Blues\", fmt='.2g',xticklabels=True,yticklabels=True,annot=True,annot_kws={'size':3,'weight':'normal', 'color':'white'})\n",
    "plt.savefig('E:/xiangguan.jpg',bbox_inches = 'tight')\n",
    "plt.show()"
   ]
  },
  {
   "cell_type": "code",
   "execution_count": null,
   "id": "ef52cd5e",
   "metadata": {},
   "outputs": [],
   "source": []
  }
 ],
 "metadata": {
  "kernelspec": {
   "display_name": "Python 3 (ipykernel)",
   "language": "python",
   "name": "python3"
  },
  "language_info": {
   "codemirror_mode": {
    "name": "ipython",
    "version": 3
   },
   "file_extension": ".py",
   "mimetype": "text/x-python",
   "name": "python",
   "nbconvert_exporter": "python",
   "pygments_lexer": "ipython3",
   "version": "3.8.11"
  }
 },
 "nbformat": 4,
 "nbformat_minor": 5
}
