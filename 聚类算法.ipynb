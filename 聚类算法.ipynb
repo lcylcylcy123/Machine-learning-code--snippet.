{
 "cells": [
  {
   "cell_type": "code",
   "execution_count": 5,
   "id": "8d2e07cb",
   "metadata": {
    "scrolled": true
   },
   "outputs": [
    {
     "name": "stderr",
     "output_type": "stream",
     "text": [
      "D:\\anaconda3\\lib\\site-packages\\sklearn\\cluster\\_kmeans.py:870: FutureWarning: The default value of `n_init` will change from 10 to 'auto' in 1.4. Set the value of `n_init` explicitly to suppress the warning\n",
      "  warnings.warn(\n",
      "D:\\anaconda3\\lib\\site-packages\\sklearn\\cluster\\_kmeans.py:1382: UserWarning: KMeans is known to have a memory leak on Windows with MKL, when there are less chunks than available threads. You can avoid it by setting the environment variable OMP_NUM_THREADS=3.\n",
      "  warnings.warn(\n"
     ]
    }
   ],
   "source": [
    "import pandas as pd\n",
    "from sklearn.cluster import KMeans\n",
    "\n",
    "# 从Excel文件中读取数据\n",
    "data = pd.read_excel(\"E:\\暑期工作数据集\\clust.xlsx\", sheet_name=\"Sheet1\")\n",
    "\n",
    "# 将特征名称转换为字符串类型\n",
    "data.columns = data.columns.astype(str)\n",
    "\n",
    "# 提取特征数据\n",
    "features = data.iloc[:, 1:]  # 假设特征值从第2列开始，如果不是，请适当调整列索引\n",
    "\n",
    "# 创建K均值聚类模型并拟合数据\n",
    "k = 4  # 聚类的数量K\n",
    "kmeans = KMeans(n_clusters=k, random_state=42)\n",
    "kmeans.fit(features)\n",
    "\n",
    "# 获取每个样本所属的簇\n",
    "labels = kmeans.labels_\n",
    "\n",
    "# 将簇分配结果添加到原始数据\n",
    "data['Cluster'] = labels\n",
    "\n",
    "# 按簇的类别将数据分割成不同的DataFrame\n",
    "clusters = []\n",
    "for cluster_id in range(k):\n",
    "    cluster_data = data[data['Cluster'] == cluster_id]\n",
    "    clusters.append(cluster_data)\n",
    "\n",
    "# 将每个簇的数据保存到不同的Excel文件中\n",
    "for cluster_id, cluster_data in enumerate(clusters):\n",
    "    cluster_filename = f\"E:\\cluster_{cluster_id}.xlsx\"\n",
    "    cluster_data.to_excel(cluster_filename, index=False)"
   ]
  }
 ],
 "metadata": {
  "kernelspec": {
   "display_name": "Python 3 (ipykernel)",
   "language": "python",
   "name": "python3"
  },
  "language_info": {
   "codemirror_mode": {
    "name": "ipython",
    "version": 3
   },
   "file_extension": ".py",
   "mimetype": "text/x-python",
   "name": "python",
   "nbconvert_exporter": "python",
   "pygments_lexer": "ipython3",
   "version": "3.8.11"
  }
 },
 "nbformat": 4,
 "nbformat_minor": 5
}
